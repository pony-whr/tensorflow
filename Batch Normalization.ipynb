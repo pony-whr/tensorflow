{
 "cells": [
  {
   "cell_type": "code",
   "execution_count": 5,
   "id": "ba1f52f4-a586-4eae-8fdc-218af0674a82",
   "metadata": {},
   "outputs": [],
   "source": [
    "import tensorflow as tf\n",
    "from tensorflow import keras\n",
    "import numpy as np\n",
    "import pandas as pd\n",
    "import sklearn\n",
    "import sys\n",
    "import os\n",
    "%matplotlib inline\n",
    "import matplotlib as mpl\n",
    "import matplotlib.pyplot as plt"
   ]
  },
  {
   "cell_type": "code",
   "execution_count": 6,
   "id": "bac5f7d8-dc91-4eef-ae8c-3ebaad1b352a",
   "metadata": {},
   "outputs": [],
   "source": [
    "(X_train_full, y_train_full), (X_test, y_test) = keras.datasets.fashion_mnist.load_data()\n",
    "X_train_full = X_train_full / 255.0\n",
    "X_test = X_test / 255.0\n",
    "X_valid, X_train = X_train_full[:5000], X_train_full[5000:]\n",
    "y_valid, y_train = y_train_full[:5000], y_train_full[5000:]"
   ]
  },
  {
   "cell_type": "code",
   "execution_count": 7,
   "id": "ec938b39-88a9-4fa3-ac38-bc17671a5836",
   "metadata": {},
   "outputs": [],
   "source": [
    "tf.random.set_seed(42)\n",
    "np.random.seed(42)"
   ]
  },
  {
   "cell_type": "code",
   "execution_count": 13,
   "id": "b49f7c29-3c90-45a2-89be-e51e587035b7",
   "metadata": {},
   "outputs": [],
   "source": [
    "model = keras.models.Sequential([\n",
    "    keras.layers.Flatten(input_shape=[28, 28]),\n",
    "    keras.layers.BatchNormalization(),\n",
    "    keras.layers.Dense(300, use_bias=False),\n",
    "    keras.layers.BatchNormalization(),\n",
    "    keras.layers.Activation(\"relu\"),\n",
    "    keras.layers.Dense(100, use_bias=False),\n",
    "    keras.layers.BatchNormalization(),\n",
    "    keras.layers.Activation(\"relu\"),\n",
    "    keras.layers.Dense(10, activation=\"softmax\")\n",
    "])\n",
    "             "
   ]
  },
  {
   "cell_type": "code",
   "execution_count": 14,
   "id": "4c746000-c569-4c6c-b714-af61000604f7",
   "metadata": {},
   "outputs": [],
   "source": [
    "model.compile(loss='sparse_categorical_crossentropy',\n",
    "             optimzer=keras.optimizers.SGD(lr=1e-3),\n",
    "             metrics=['accuracy'])"
   ]
  },
  {
   "cell_type": "code",
   "execution_count": 15,
   "id": "f683a518-81d0-4015-940c-4ff220bec54a",
   "metadata": {},
   "outputs": [
    {
     "name": "stdout",
     "output_type": "stream",
     "text": [
      "Train on 55000 samples, validate on 5000 samples\n",
      "Epoch 1/20\n",
      "55000/55000 [==============================] - 18s 328us/sample - loss: 0.4614 - accuracy: 0.8338 - val_loss: 0.3622 - val_accuracy: 0.8658\n",
      "Epoch 2/20\n",
      "55000/55000 [==============================] - 16s 292us/sample - loss: 0.3560 - accuracy: 0.8701 - val_loss: 0.3421 - val_accuracy: 0.8802\n",
      "Epoch 3/20\n",
      "55000/55000 [==============================] - 16s 298us/sample - loss: 0.3203 - accuracy: 0.8834 - val_loss: 0.3229 - val_accuracy: 0.8852\n",
      "Epoch 4/20\n",
      "55000/55000 [==============================] - 17s 305us/sample - loss: 0.2993 - accuracy: 0.8914 - val_loss: 0.3206 - val_accuracy: 0.8892\n",
      "Epoch 5/20\n",
      "55000/55000 [==============================] - 17s 304us/sample - loss: 0.2801 - accuracy: 0.8978 - val_loss: 0.3266 - val_accuracy: 0.8926\n",
      "Epoch 6/20\n",
      "55000/55000 [==============================] - 17s 305us/sample - loss: 0.2672 - accuracy: 0.9040 - val_loss: 0.3228 - val_accuracy: 0.8960\n",
      "Epoch 7/20\n",
      "55000/55000 [==============================] - 16s 300us/sample - loss: 0.2509 - accuracy: 0.9087 - val_loss: 0.3168 - val_accuracy: 0.8938\n",
      "Epoch 8/20\n",
      "55000/55000 [==============================] - 16s 296us/sample - loss: 0.2421 - accuracy: 0.9130 - val_loss: 0.3354 - val_accuracy: 0.8916\n",
      "Epoch 9/20\n",
      "55000/55000 [==============================] - 16s 295us/sample - loss: 0.2340 - accuracy: 0.9152 - val_loss: 0.3343 - val_accuracy: 0.8934\n",
      "Epoch 10/20\n",
      "55000/55000 [==============================] - 16s 294us/sample - loss: 0.2260 - accuracy: 0.9187 - val_loss: 0.3324 - val_accuracy: 0.8964\n",
      "Epoch 11/20\n",
      "55000/55000 [==============================] - 16s 297us/sample - loss: 0.2177 - accuracy: 0.9217 - val_loss: 0.3400 - val_accuracy: 0.8986\n",
      "Epoch 12/20\n",
      "55000/55000 [==============================] - 16s 298us/sample - loss: 0.2105 - accuracy: 0.9242 - val_loss: 0.3725 - val_accuracy: 0.8944\n",
      "Epoch 13/20\n",
      "55000/55000 [==============================] - 16s 297us/sample - loss: 0.2039 - accuracy: 0.9263 - val_loss: 0.3588 - val_accuracy: 0.8988\n",
      "Epoch 14/20\n",
      "55000/55000 [==============================] - 16s 297us/sample - loss: 0.1956 - accuracy: 0.9289 - val_loss: 0.3465 - val_accuracy: 0.9030\n",
      "Epoch 15/20\n",
      "55000/55000 [==============================] - 16s 298us/sample - loss: 0.1903 - accuracy: 0.9321 - val_loss: 0.3666 - val_accuracy: 0.8954\n",
      "Epoch 16/20\n",
      "55000/55000 [==============================] - 16s 298us/sample - loss: 0.1830 - accuracy: 0.9335 - val_loss: 0.3770 - val_accuracy: 0.8988\n",
      "Epoch 17/20\n",
      "55000/55000 [==============================] - 16s 299us/sample - loss: 0.1803 - accuracy: 0.9348 - val_loss: 0.3858 - val_accuracy: 0.8948\n",
      "Epoch 18/20\n",
      "55000/55000 [==============================] - 16s 298us/sample - loss: 0.1751 - accuracy: 0.9364 - val_loss: 0.3902 - val_accuracy: 0.8986\n",
      "Epoch 19/20\n",
      "55000/55000 [==============================] - 16s 299us/sample - loss: 0.1727 - accuracy: 0.9381 - val_loss: 0.3917 - val_accuracy: 0.8992\n",
      "Epoch 20/20\n",
      "55000/55000 [==============================] - 17s 300us/sample - loss: 0.1648 - accuracy: 0.9407 - val_loss: 0.4049 - val_accuracy: 0.8944\n"
     ]
    }
   ],
   "source": [
    "history = model.fit(X_train, y_train, epochs=20,\n",
    "                   validation_data=(X_valid, y_valid))"
   ]
  },
  {
   "cell_type": "code",
   "execution_count": null,
   "id": "3d89b8d5-4c92-4ddf-b149-f1b2caf4d6af",
   "metadata": {},
   "outputs": [],
   "source": []
  }
 ],
 "metadata": {
  "kernelspec": {
   "display_name": "Python 3",
   "language": "python",
   "name": "python3"
  },
  "language_info": {
   "codemirror_mode": {
    "name": "ipython",
    "version": 3
   },
   "file_extension": ".py",
   "mimetype": "text/x-python",
   "name": "python",
   "nbconvert_exporter": "python",
   "pygments_lexer": "ipython3",
   "version": "3.7.0"
  }
 },
 "nbformat": 4,
 "nbformat_minor": 5
}
