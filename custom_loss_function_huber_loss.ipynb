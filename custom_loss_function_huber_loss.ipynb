{
 "cells": [
  {
   "cell_type": "code",
   "execution_count": 93,
   "id": "c9a4211d-3d7a-4e91-bb7e-1225a49c24a8",
   "metadata": {},
   "outputs": [],
   "source": [
    "from sklearn.datasets import fetch_california_housing\n",
    "from sklearn.model_selection import train_test_split\n",
    "from sklearn.preprocessing import StandardScaler\n",
    "from matplotlib import pyplot as plt\n",
    "import tensorflow as tf \n",
    "from tensorflow import keras\n",
    "import numpy as np\n",
    "import pandas as pd\n",
    "import sys\n",
    "import os"
   ]
  },
  {
   "cell_type": "code",
   "execution_count": 58,
   "id": "b0a7d62d-0864-4fb2-a3cb-9c51467d8846",
   "metadata": {},
   "outputs": [],
   "source": [
    "housing =  fetch_california_housing()\n",
    "X_train_full, X_test, y_train_full, y_test = train_test_split(\n",
    "    housing.data, housing.target.reshape(-1,1), random_state=42)\n",
    "X_train, X_valid, y_train, y_valid =  train_test_split(\n",
    "    X_train_full, y_train_full, random_state=42)"
   ]
  },
  {
   "cell_type": "code",
   "execution_count": 59,
   "id": "cf00b9e3-5993-4078-859e-9c6d324a3034",
   "metadata": {},
   "outputs": [],
   "source": [
    "scaler = StandardScaler()\n",
    "X_train_scaled =  scaler.fit_transform(X_train)\n",
    "X_valid_scaled = scaler.transform(X_valid)\n",
    "X_test_scaled = scaler.transform(X_test)"
   ]
  },
  {
   "cell_type": "code",
   "execution_count": 60,
   "id": "da6933de-5069-43c9-955d-5f8be42bd15f",
   "metadata": {},
   "outputs": [],
   "source": [
    "def huber_fn(y_true, y_pred):\n",
    "    error = y_true - y_pred\n",
    "    is_small_error =  tf.abs(error)<1\n",
    "    squared_loss = tf.square(error) / 2\n",
    "    linear_loss = tf.abs(error) - 0.5\n",
    "    return tf.where(is_small_error, squared_loss, linear_loss)"
   ]
  },
  {
   "cell_type": "code",
   "execution_count": 61,
   "id": "0e6fc7d5-0ccc-4e8d-94ac-e21343033549",
   "metadata": {},
   "outputs": [
    {
     "data": {
      "image/png": "[encoded data removed]",
      "text/plain": [
       "<Figure size 576x252 with 1 Axes>"
      ]
     },
     "metadata": {
      "needs_background": "light"
     },
     "output_type": "display_data"
    }
   ],
   "source": [
    "plt.figure(figsize=(8, 3.5))\n",
    "z = np.linspace(-4, 4, 200)\n",
    "plt.plot(z, huber_fn(0, z), \"b-\", linewidth=2, label=\"huber($z$)\")\n",
    "plt.plot(z, z**2 / 2, \"b:\", linewidth=1, label=r\"$\\frac{1}{2}z^2$\")\n",
    "plt.plot([-1, -1], [0, huber_fn(0., -1.)], \"r--\")\n",
    "plt.plot([1, 1], [0, huber_fn(0., 1.)], \"r--\")\n",
    "plt.gca().axhline(y=0, color='k')\n",
    "plt.gca().axvline(x=0, color='k')\n",
    "plt.axis([-4, 4, 0, 4])\n",
    "plt.grid(True)\n",
    "plt.xlabel(\"$z$\")\n",
    "plt.legend(fontsize=14)\n",
    "plt.title(\"Huber loss\", fontsize=14)\n",
    "plt.show()"
   ]
  },
  {
   "cell_type": "code",
   "execution_count": 62,
   "id": "06a1fbf0-9028-423a-8bfa-c2662e474a56",
   "metadata": {},
   "outputs": [],
   "source": [
    "input_shape = X_train.shape[1:]\n",
    "\n",
    "model = keras.models.Sequential([\n",
    "    keras.layers.Dense(30, activation='selu', kernel_initializer='lecun_normal',\n",
    "                      input_shape=input_shape),\n",
    "    keras.layers.Dense(1),\n",
    "])"
   ]
  },
  {
   "cell_type": "code",
   "execution_count": 63,
   "id": "77036d65-1917-41ca-bcb4-eb4c8b28d070",
   "metadata": {},
   "outputs": [],
   "source": [
    "model.compile(loss=huber_fn, optimizer='nadam', metrics=['mae'])"
   ]
  },
  {
   "cell_type": "code",
   "execution_count": 66,
   "id": "36a59677-d92a-429a-9351-9823e4d34b88",
   "metadata": {},
   "outputs": [
    {
     "name": "stdout",
     "output_type": "stream",
     "text": [
      "Train on 11610 samples, validate on 3870 samples\n",
      "Epoch 1/20\n",
      "11610/11610 [==============================] - 1s 85us/sample - loss: 0.1752 - mae: 0.4497 - val_loss: 0.1759 - val_mae: 0.4486\n",
      "Epoch 2/20\n",
      "11610/11610 [==============================] - 1s 77us/sample - loss: 0.1735 - mae: 0.4473 - val_loss: 0.1916 - val_mae: 0.4618\n",
      "Epoch 3/20\n",
      "11610/11610 [==============================] - 1s 76us/sample - loss: 0.1732 - mae: 0.4462 - val_loss: 0.1733 - val_mae: 0.4431\n",
      "Epoch 4/20\n",
      "11610/11610 [==============================] - 1s 77us/sample - loss: 0.1725 - mae: 0.4455 - val_loss: 0.1622 - val_mae: 0.4291\n",
      "Epoch 5/20\n",
      "11610/11610 [==============================] - 1s 79us/sample - loss: 0.1712 - mae: 0.4426 - val_loss: 0.1772 - val_mae: 0.4494\n",
      "Epoch 6/20\n",
      "11610/11610 [==============================] - 1s 82us/sample - loss: 0.1700 - mae: 0.4415 - val_loss: 0.1676 - val_mae: 0.4370\n",
      "Epoch 7/20\n",
      "11610/11610 [==============================] - 1s 79us/sample - loss: 0.1696 - mae: 0.4403 - val_loss: 0.1693 - val_mae: 0.4380\n",
      "Epoch 8/20\n",
      "11610/11610 [==============================] - 1s 82us/sample - loss: 0.1681 - mae: 0.4380 - val_loss: 0.1842 - val_mae: 0.4488\n",
      "Epoch 9/20\n",
      "11610/11610 [==============================] - 1s 84us/sample - loss: 0.1677 - mae: 0.4374 - val_loss: 0.1697 - val_mae: 0.4347\n",
      "Epoch 10/20\n",
      "11610/11610 [==============================] - 1s 81us/sample - loss: 0.1669 - mae: 0.4358 - val_loss: 0.1716 - val_mae: 0.4370\n",
      "Epoch 11/20\n",
      "11610/11610 [==============================] - 1s 81us/sample - loss: 0.1665 - mae: 0.4354 - val_loss: 0.1772 - val_mae: 0.4484\n",
      "Epoch 12/20\n",
      "11610/11610 [==============================] - 1s 83us/sample - loss: 0.1652 - mae: 0.4336 - val_loss: 0.1702 - val_mae: 0.4388\n",
      "Epoch 13/20\n",
      "11610/11610 [==============================] - 1s 82us/sample - loss: 0.1653 - mae: 0.4334 - val_loss: 0.1598 - val_mae: 0.4234\n",
      "Epoch 14/20\n",
      "11610/11610 [==============================] - 1s 79us/sample - loss: 0.1638 - mae: 0.4314 - val_loss: 0.1676 - val_mae: 0.4307\n",
      "Epoch 15/20\n",
      "11610/11610 [==============================] - 1s 81us/sample - loss: 0.1641 - mae: 0.4314 - val_loss: 0.1625 - val_mae: 0.4285\n",
      "Epoch 16/20\n",
      "11610/11610 [==============================] - 1s 79us/sample - loss: 0.1631 - mae: 0.4301 - val_loss: 0.1881 - val_mae: 0.4483\n",
      "Epoch 17/20\n",
      "11610/11610 [==============================] - 1s 82us/sample - loss: 0.1632 - mae: 0.4295 - val_loss: 0.1542 - val_mae: 0.4140\n",
      "Epoch 18/20\n",
      "11610/11610 [==============================] - 1s 82us/sample - loss: 0.1623 - mae: 0.4291 - val_loss: 0.1713 - val_mae: 0.4357\n",
      "Epoch 19/20\n",
      "11610/11610 [==============================] - 1s 83us/sample - loss: 0.1619 - mae: 0.4276 - val_loss: 0.1564 - val_mae: 0.4203\n",
      "Epoch 20/20\n",
      "11610/11610 [==============================] - 1s 81us/sample - loss: 0.1609 - mae: 0.4255 - val_loss: 0.1722 - val_mae: 0.4366\n"
     ]
    },
    {
     "data": {
      "text/plain": [
       "<tensorflow.python.keras.callbacks.History at 0x7fd619bca128>"
      ]
     },
     "execution_count": 66,
     "metadata": {},
     "output_type": "execute_result"
    }
   ],
   "source": [
    "model.fit(X_train_scaled, y_train, epochs=20,\n",
    "         validation_data=(X_valid_scaled, y_valid))"
   ]
  },
  {
   "cell_type": "code",
   "execution_count": 71,
   "id": "b15ab64e-8db4-4948-8e3c-ece9ba78b77a",
   "metadata": {},
   "outputs": [],
   "source": [
    "model.save('my_model_with_a_custom_loss.h5')"
   ]
  },
  {
   "cell_type": "code",
   "execution_count": 72,
   "id": "bc1ab01d-77d2-40fe-8ff8-5b62bae57d93",
   "metadata": {},
   "outputs": [],
   "source": [
    "# model = keras.models.load_model('my_model_with_a_custom_loss.h5',\n",
    "#                                custom_objects={'huber_fn':huber_fn})"
   ]
  },
  {
   "cell_type": "code",
   "execution_count": 74,
   "id": "c61ea8de-bdfa-40ca-94bf-f2b6dfa79599",
   "metadata": {},
   "outputs": [
    {
     "name": "stdout",
     "output_type": "stream",
     "text": [
      "Train on 11610 samples, validate on 3870 samples\n",
      "Epoch 1/20\n",
      "11610/11610 [==============================] - 1s 87us/sample - loss: 0.1593 - mae: 0.4236 - val_loss: 0.1500 - val_mae: 0.4094\n",
      "Epoch 2/20\n",
      "11610/11610 [==============================] - 1s 84us/sample - loss: 0.1588 - mae: 0.4226 - val_loss: 0.1632 - val_mae: 0.4215\n",
      "Epoch 3/20\n",
      "11610/11610 [==============================] - 1s 100us/sample - loss: 0.1591 - mae: 0.4233 - val_loss: 0.1705 - val_mae: 0.4328\n",
      "Epoch 4/20\n",
      "11610/11610 [==============================] - 1s 94us/sample - loss: 0.1587 - mae: 0.4221 - val_loss: 0.1566 - val_mae: 0.4151\n",
      "Epoch 5/20\n",
      "11610/11610 [==============================] - 1s 88us/sample - loss: 0.1577 - mae: 0.4203 - val_loss: 0.1556 - val_mae: 0.4163\n",
      "Epoch 6/20\n",
      "11610/11610 [==============================] - 1s 81us/sample - loss: 0.1572 - mae: 0.4199 - val_loss: 0.1699 - val_mae: 0.4326\n",
      "Epoch 7/20\n",
      "11610/11610 [==============================] - 1s 96us/sample - loss: 0.1571 - mae: 0.4193 - val_loss: 0.1539 - val_mae: 0.4132\n",
      "Epoch 8/20\n",
      "11610/11610 [==============================] - 1s 82us/sample - loss: 0.1568 - mae: 0.4185 - val_loss: 0.1625 - val_mae: 0.4230\n",
      "Epoch 9/20\n",
      "11610/11610 [==============================] - 1s 80us/sample - loss: 0.1561 - mae: 0.4179 - val_loss: 0.1523 - val_mae: 0.4098\n",
      "Epoch 10/20\n",
      "11610/11610 [==============================] - 1s 83us/sample - loss: 0.1553 - mae: 0.4168 - val_loss: 0.1605 - val_mae: 0.4155\n",
      "Epoch 11/20\n",
      "11610/11610 [==============================] - 1s 86us/sample - loss: 0.1557 - mae: 0.4169 - val_loss: 0.1495 - val_mae: 0.4080\n",
      "Epoch 12/20\n",
      "11610/11610 [==============================] - 1s 85us/sample - loss: 0.1548 - mae: 0.4153 - val_loss: 0.1637 - val_mae: 0.4226\n",
      "Epoch 13/20\n",
      "11610/11610 [==============================] - 1s 92us/sample - loss: 0.1550 - mae: 0.4161 - val_loss: 0.1594 - val_mae: 0.4139\n",
      "Epoch 14/20\n",
      "11610/11610 [==============================] - 1s 84us/sample - loss: 0.1545 - mae: 0.4156 - val_loss: 0.1584 - val_mae: 0.4135\n",
      "Epoch 15/20\n",
      "11610/11610 [==============================] - 1s 78us/sample - loss: 0.1541 - mae: 0.4142 - val_loss: 0.1642 - val_mae: 0.4229\n",
      "Epoch 16/20\n",
      "11610/11610 [==============================] - 1s 80us/sample - loss: 0.1538 - mae: 0.4134 - val_loss: 0.1519 - val_mae: 0.4114\n",
      "Epoch 17/20\n",
      "11610/11610 [==============================] - 1s 78us/sample - loss: 0.1536 - mae: 0.4129 - val_loss: 0.1707 - val_mae: 0.4247\n",
      "Epoch 18/20\n",
      "11610/11610 [==============================] - 1s 77us/sample - loss: 0.1538 - mae: 0.4131 - val_loss: 0.1535 - val_mae: 0.4123\n",
      "Epoch 19/20\n",
      "11610/11610 [==============================] - 1s 78us/sample - loss: 0.1533 - mae: 0.4128 - val_loss: 0.1474 - val_mae: 0.4024\n",
      "Epoch 20/20\n",
      "11610/11610 [==============================] - 1s 77us/sample - loss: 0.1519 - mae: 0.4111 - val_loss: 0.1712 - val_mae: 0.4313\n"
     ]
    },
    {
     "data": {
      "text/plain": [
       "<tensorflow.python.keras.callbacks.History at 0x7fd61a9d0898>"
      ]
     },
     "execution_count": 74,
     "metadata": {},
     "output_type": "execute_result"
    }
   ],
   "source": [
    "model.fit(X_train_scaled, y_train, epochs=20,\n",
    "         validation_data=(X_valid_scaled, y_valid))"
   ]
  },
  {
   "cell_type": "code",
   "execution_count": 94,
   "id": "b63193cb-f423-4884-acf6-c3ba271106ea",
   "metadata": {},
   "outputs": [],
   "source": [
    "def create_huber(threshold=1.0):\n",
    "    def huber_fn(y_true, y_pred):\n",
    "        error = y_true - y_pred\n",
    "        is_small_error = tf.abs(error) < threshold\n",
    "        squared_loss = tf.square(error) / 2\n",
    "        linear_loss = threshold * tf.abs(error) - threshold**2 /2\n",
    "        return tf.where(is_small_error, squared_loss, linear_loss)\n",
    "    return huber_fn"
   ]
  },
  {
   "cell_type": "code",
   "execution_count": 95,
   "id": "12cd833f-77e0-4900-9e92-5b061b978fd0",
   "metadata": {},
   "outputs": [],
   "source": [
    "model.compile(loss= create_huber(2.0), optimizer='nadam', metrices=['mas'])"
   ]
  },
  {
   "cell_type": "code",
   "execution_count": 96,
   "id": "c59be148-70bc-4dfe-b384-fc59ab99f1fc",
   "metadata": {},
   "outputs": [
    {
     "name": "stdout",
     "output_type": "stream",
     "text": [
      "Train on 11610 samples, validate on 3870 samples\n",
      "Epoch 1/20\n",
      "11610/11610 [==============================] - 2s 171us/sample - loss: 0.1623 - val_loss: 0.1677\n",
      "Epoch 2/20\n",
      "11610/11610 [==============================] - 1s 77us/sample - loss: 0.1614 - val_loss: 0.1938\n",
      "Epoch 3/20\n",
      "11610/11610 [==============================] - 1s 77us/sample - loss: 0.1612 - val_loss: 0.1599\n",
      "Epoch 4/20\n",
      "11610/11610 [==============================] - 1s 76us/sample - loss: 0.1609 - val_loss: 0.1987\n",
      "Epoch 5/20\n",
      "11610/11610 [==============================] - 1s 81us/sample - loss: 0.1609 - val_loss: 0.1674\n",
      "Epoch 6/20\n",
      "11610/11610 [==============================] - 1s 78us/sample - loss: 0.1612 - val_loss: 0.1742\n",
      "Epoch 7/20\n",
      "11610/11610 [==============================] - 1s 78us/sample - loss: 0.1598 - val_loss: 0.1888\n",
      "Epoch 8/20\n",
      "11610/11610 [==============================] - 1s 76us/sample - loss: 0.1612 - val_loss: 0.1577\n",
      "Epoch 9/20\n",
      "11610/11610 [==============================] - 1s 78us/sample - loss: 0.1600 - val_loss: 0.1647\n",
      "Epoch 10/20\n",
      "11610/11610 [==============================] - 1s 77us/sample - loss: 0.1609 - val_loss: 0.2098\n",
      "Epoch 11/20\n",
      "11610/11610 [==============================] - 1s 79us/sample - loss: 0.1606 - val_loss: 0.1606\n",
      "Epoch 12/20\n",
      "11610/11610 [==============================] - 1s 78us/sample - loss: 0.1589 - val_loss: 0.1719\n",
      "Epoch 13/20\n",
      "11610/11610 [==============================] - 1s 87us/sample - loss: 0.1596 - val_loss: 0.1725\n",
      "Epoch 14/20\n",
      "11610/11610 [==============================] - 1s 80us/sample - loss: 0.1598 - val_loss: 0.2146\n",
      "Epoch 15/20\n",
      "11610/11610 [==============================] - 1s 77us/sample - loss: 0.1610 - val_loss: 0.1648\n",
      "Epoch 16/20\n",
      "11610/11610 [==============================] - 1s 76us/sample - loss: 0.1595 - val_loss: 0.1656\n",
      "Epoch 17/20\n",
      "11610/11610 [==============================] - 1s 77us/sample - loss: 0.1593 - val_loss: 0.2003\n",
      "Epoch 18/20\n",
      "11610/11610 [==============================] - 1s 78us/sample - loss: 0.1595 - val_loss: 0.1579\n",
      "Epoch 19/20\n",
      "11610/11610 [==============================] - 1s 77us/sample - loss: 0.1595 - val_loss: 0.2087\n",
      "Epoch 20/20\n",
      "11610/11610 [==============================] - 1s 78us/sample - loss: 0.1601 - val_loss: 0.1590\n"
     ]
    },
    {
     "data": {
      "text/plain": [
       "<tensorflow.python.keras.callbacks.History at 0x7fd620081b70>"
      ]
     },
     "execution_count": 96,
     "metadata": {},
     "output_type": "execute_result"
    }
   ],
   "source": [
    "model.fit(X_train_scaled, y_train, epochs=20,\n",
    "         validation_data=(X_valid_scaled, y_valid))"
   ]
  },
  {
   "cell_type": "code",
   "execution_count": 99,
   "id": "3575b27f-4eea-4229-b3a8-30e4bd4071e4",
   "metadata": {},
   "outputs": [],
   "source": [
    "class HuberLoss(keras.losses.Loss):\n",
    "    def __init__(self, threshold=1.0, **kwargs):\n",
    "        self.threshold = threshold\n",
    "        super().__init__(**kwargs)\n",
    "    def call(self, y_true, y_pred):\n",
    "        error = y_true - y_pred\n",
    "        is_small_error = tf.abs(error) < self.threshold\n",
    "        squared_loss = tf.square(error) / 2\n",
    "        linear_loss  = self.threshold * tf.abs(error) - self.threshold**2 / 2\n",
    "        return tf.where(is_small_error, squared_loss, linear_loss)\n",
    "    def get_config(self):\n",
    "        base_config = super().get_config()\n",
    "        return {**base_config, \"threshold\": self.threshold}"
   ]
  },
  {
   "cell_type": "code",
   "execution_count": 101,
   "id": "2de31f2b-e3d8-48ee-a5d9-469d1fe5ab6e",
   "metadata": {},
   "outputs": [],
   "source": [
    "model = keras.models.Sequential([\n",
    "    keras.layers.Dense(30, activation='selu', kernel_initializer='lecun_normal',\n",
    "                      input_shape=input_shape),\n",
    "    keras.layers.Dense(1),\n",
    "])"
   ]
  },
  {
   "cell_type": "code",
   "execution_count": 103,
   "id": "b488bd13-cc12-407a-ad31-c60aef4065c2",
   "metadata": {},
   "outputs": [],
   "source": [
    "model.compile(loss=HuberLoss(2.), optimizer='nadam',metrics=['mae'])"
   ]
  },
  {
   "cell_type": "code",
   "execution_count": 104,
   "id": "b4a7d9f3-3016-4c5e-8fea-ebaa47f1785b",
   "metadata": {},
   "outputs": [
    {
     "name": "stdout",
     "output_type": "stream",
     "text": [
      "Train on 11610 samples, validate on 3870 samples\n",
      "Epoch 1/20\n",
      "11610/11610 [==============================] - 2s 184us/sample - loss: 0.8524 - mae: 1.0153 - val_loss: 0.2553 - val_mae: 0.5094\n",
      "Epoch 2/20\n",
      "11610/11610 [==============================] - 1s 77us/sample - loss: 0.2354 - mae: 0.5034 - val_loss: 0.2301 - val_mae: 0.4807\n",
      "Epoch 3/20\n",
      "11610/11610 [==============================] - 1s 78us/sample - loss: 0.2246 - mae: 0.4933 - val_loss: 0.2090 - val_mae: 0.4680\n",
      "Epoch 4/20\n",
      "11610/11610 [==============================] - 1s 78us/sample - loss: 0.2200 - mae: 0.4871 - val_loss: 0.2053 - val_mae: 0.4676\n",
      "Epoch 5/20\n",
      "11610/11610 [==============================] - 1s 79us/sample - loss: 0.2161 - mae: 0.4834 - val_loss: 0.2357 - val_mae: 0.4806\n",
      "Epoch 6/20\n",
      "11610/11610 [==============================] - 1s 79us/sample - loss: 0.2134 - mae: 0.4791 - val_loss: 0.2058 - val_mae: 0.4672\n",
      "Epoch 7/20\n",
      "11610/11610 [==============================] - 1s 78us/sample - loss: 0.2102 - mae: 0.4760 - val_loss: 0.2343 - val_mae: 0.4763\n",
      "Epoch 8/20\n",
      "11610/11610 [==============================] - 1s 78us/sample - loss: 0.2090 - mae: 0.4732 - val_loss: 0.1985 - val_mae: 0.4591\n",
      "Epoch 9/20\n",
      "11610/11610 [==============================] - 1s 77us/sample - loss: 0.2058 - mae: 0.4697 - val_loss: 0.2242 - val_mae: 0.4688\n",
      "Epoch 10/20\n",
      "11610/11610 [==============================] - 1s 78us/sample - loss: 0.2050 - mae: 0.4683 - val_loss: 0.2270 - val_mae: 0.4703\n",
      "Epoch 11/20\n",
      "11610/11610 [==============================] - 1s 78us/sample - loss: 0.2037 - mae: 0.4656 - val_loss: 0.2006 - val_mae: 0.4553\n",
      "Epoch 12/20\n",
      "11610/11610 [==============================] - 1s 78us/sample - loss: 0.2013 - mae: 0.4631 - val_loss: 0.2060 - val_mae: 0.4577\n",
      "Epoch 13/20\n",
      "11610/11610 [==============================] - 1s 78us/sample - loss: 0.2000 - mae: 0.4608 - val_loss: 0.2150 - val_mae: 0.4577\n",
      "Epoch 14/20\n",
      "11610/11610 [==============================] - 1s 79us/sample - loss: 0.1992 - mae: 0.4595 - val_loss: 0.1875 - val_mae: 0.4446\n",
      "Epoch 15/20\n",
      "11610/11610 [==============================] - 1s 79us/sample - loss: 0.1966 - mae: 0.4566 - val_loss: 0.2049 - val_mae: 0.4528\n",
      "Epoch 16/20\n",
      "11610/11610 [==============================] - 1s 77us/sample - loss: 0.1960 - mae: 0.4559 - val_loss: 0.2089 - val_mae: 0.4546\n",
      "Epoch 17/20\n",
      "11610/11610 [==============================] - 1s 78us/sample - loss: 0.1950 - mae: 0.4538 - val_loss: 0.2069 - val_mae: 0.4524\n",
      "Epoch 18/20\n",
      "11610/11610 [==============================] - 1s 78us/sample - loss: 0.1940 - mae: 0.4528 - val_loss: 0.2032 - val_mae: 0.4485\n",
      "Epoch 19/20\n",
      "11610/11610 [==============================] - 1s 78us/sample - loss: 0.1920 - mae: 0.4498 - val_loss: 0.1989 - val_mae: 0.4476\n",
      "Epoch 20/20\n",
      "11610/11610 [==============================] - 1s 78us/sample - loss: 0.1914 - mae: 0.4485 - val_loss: 0.2139 - val_mae: 0.4541\n"
     ]
    },
    {
     "data": {
      "text/plain": [
       "<tensorflow.python.keras.callbacks.History at 0x7fd627029e80>"
      ]
     },
     "execution_count": 104,
     "metadata": {},
     "output_type": "execute_result"
    }
   ],
   "source": [
    "model.fit(X_train_scaled, y_train, epochs=20,\n",
    "         validation_data=(X_valid_scaled, y_valid))"
   ]
  },
  {
   "cell_type": "code",
   "execution_count": null,
   "id": "8cb1a57d-28a1-492e-aff0-04cd0f8f501e",
   "metadata": {},
   "outputs": [],
   "source": []
  }
 ],
 "metadata": {
  "kernelspec": {
   "display_name": "Python 3",
   "language": "python",
   "name": "python3"
  },
  "language_info": {
   "codemirror_mode": {
    "name": "ipython",
    "version": 3
   },
   "file_extension": ".py",
   "mimetype": "text/x-python",
   "name": "python",
   "nbconvert_exporter": "python",
   "pygments_lexer": "ipython3",
   "version": "3.7.0"
  }
 },
 "nbformat": 4,
 "nbformat_minor": 5
}
